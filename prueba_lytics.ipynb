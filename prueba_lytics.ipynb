{
 "cells": [
  {
   "cell_type": "code",
   "execution_count": 2,
   "metadata": {},
   "outputs": [],
   "source": [
    "#importamos librerias\n",
    "import pandas as pd\n",
    "import numpy as np \n",
    "import matplotlib.pyplot as plt"
   ]
  },
  {
   "cell_type": "code",
   "execution_count": 3,
   "metadata": {},
   "outputs": [],
   "source": [
    "#cargamos los csv\n",
    "url1 = \"https://raw.githubusercontent.com/nytimes/covid-19-data/master/us-counties-2020.csv\"\n",
    "url2 = \"https://raw.githubusercontent.com/nytimes/covid-19-data/master/us-counties-2021.csv\"\n",
    "url3 = \"https://raw.githubusercontent.com/nytimes/covid-19-data/master/us-counties-2022.csv\""
   ]
  },
  {
   "cell_type": "code",
   "execution_count": 4,
   "metadata": {},
   "outputs": [
    {
     "name": "stdout",
     "output_type": "stream",
     "text": [
      "               date      county       state     fips  cases  deaths\n",
      "0        2020-01-21   Snohomish  Washington  53061.0      1     0.0\n",
      "1        2020-01-22   Snohomish  Washington  53061.0      1     0.0\n",
      "2        2020-01-23   Snohomish  Washington  53061.0      1     0.0\n",
      "3        2020-01-24        Cook    Illinois  17031.0      1     0.0\n",
      "4        2020-01-24   Snohomish  Washington  53061.0      1     0.0\n",
      "...             ...         ...         ...      ...    ...     ...\n",
      "2672252  2022-07-04  Sweetwater     Wyoming  56037.0  11564   126.0\n",
      "2672253  2022-07-04       Teton     Wyoming  56039.0  10807    16.0\n",
      "2672254  2022-07-04       Uinta     Wyoming  56041.0   5815    39.0\n",
      "2672255  2022-07-04    Washakie     Wyoming  56043.0   2481    44.0\n",
      "2672256  2022-07-04      Weston     Wyoming  56045.0   1643    19.0\n",
      "\n",
      "[2672257 rows x 6 columns]\n"
     ]
    }
   ],
   "source": [
    "#concatenamos todo en un dataframe\n",
    "dataFrame = pd.concat(map(pd.read_csv, [url1, url2, url3]), ignore_index=True)\n",
    "print(dataFrame)"
   ]
  },
  {
   "cell_type": "code",
   "execution_count": 5,
   "metadata": {},
   "outputs": [
    {
     "name": "stdout",
     "output_type": "stream",
     "text": [
      "                   fips     cases     deaths\n",
      "date                                        \n",
      "2020-01-21      53061.0         1        0.0\n",
      "2020-01-22      53061.0         1        0.0\n",
      "2020-01-23      53061.0         1        0.0\n",
      "2020-01-24      70092.0         2        0.0\n",
      "2020-01-25      76151.0         3        0.0\n",
      "...                 ...       ...        ...\n",
      "2022-06-30  101394903.0  87474276  1014452.0\n",
      "2022-07-01  101394903.0  87625966  1014972.0\n",
      "2022-07-02  101394903.0  87634482  1014986.0\n",
      "2022-07-03  101394903.0  87644884  1014996.0\n",
      "2022-07-04  101394903.0  87680546  1015060.0\n",
      "\n",
      "[896 rows x 3 columns]\n"
     ]
    }
   ],
   "source": [
    "#agrupamos por día\n",
    "print(dataFrame.groupby(by=['date']).sum().groupby(level=[0]).cumsum())\n",
    "dataFramexDia = dataFrame.groupby(by=['date']).sum().groupby(level=[0]).cumsum()"
   ]
  },
  {
   "cell_type": "code",
   "execution_count": 6,
   "metadata": {},
   "outputs": [
    {
     "name": "stdout",
     "output_type": "stream",
     "text": [
      "                   fips     cases     deaths\n",
      "date                                        \n",
      "2022-06-25  101394903.0  86881049  1012480.0\n",
      "2022-06-26  101394903.0  86899289  1012486.0\n",
      "2022-06-27  101394903.0  87031268  1012765.0\n",
      "2022-06-28  101394903.0  87153779  1013306.0\n",
      "2022-06-29  101394903.0  87350558  1013999.0\n",
      "2022-06-30  101394903.0  87474276  1014452.0\n",
      "2022-07-01  101394903.0  87625966  1014972.0\n",
      "2022-07-02  101394903.0  87634482  1014986.0\n",
      "2022-07-03  101394903.0  87644884  1014996.0\n",
      "2022-07-04  101394903.0  87680546  1015060.0\n"
     ]
    }
   ],
   "source": [
    "#agrupamos los 10 mayores\n",
    "dataFramexDia = dataFrame.groupby(by=['date']).sum().groupby(level=[0]).cumsum()\n",
    "dataFrameOrdenado = dataFramexDia.sort_values(['cases'])\n",
    "dataFramefinal = dataFrameOrdenado.tail(10)\n",
    "print(dataFramefinal)"
   ]
  },
  {
   "cell_type": "code",
   "execution_count": 7,
   "metadata": {},
   "outputs": [
    {
     "name": "stdout",
     "output_type": "stream",
     "text": [
      "Index(['2022-06-25', '2022-06-26', '2022-06-27', '2022-06-28', '2022-06-29',\n",
      "       '2022-06-30', '2022-07-01', '2022-07-02', '2022-07-03', '2022-07-04'],\n",
      "      dtype='object', name='date')\n"
     ]
    }
   ],
   "source": [
    "#obtenemos valores del eje x (fecha)\n",
    "x_values = dataFramefinal.index\n",
    "print(x_values)"
   ]
  },
  {
   "cell_type": "code",
   "execution_count": 8,
   "metadata": {},
   "outputs": [
    {
     "name": "stdout",
     "output_type": "stream",
     "text": [
      "date\n",
      "2022-06-25    86881049\n",
      "2022-06-26    86899289\n",
      "2022-06-27    87031268\n",
      "2022-06-28    87153779\n",
      "2022-06-29    87350558\n",
      "2022-06-30    87474276\n",
      "2022-07-01    87625966\n",
      "2022-07-02    87634482\n",
      "2022-07-03    87644884\n",
      "2022-07-04    87680546\n",
      "Name: cases, dtype: int64\n"
     ]
    }
   ],
   "source": [
    "#obtenemos valores del eje y (casos)\n",
    "y_values = dataFramefinal.cases\n",
    "print(y_values)"
   ]
  },
  {
   "cell_type": "code",
   "execution_count": 9,
   "metadata": {},
   "outputs": [
    {
     "data": {
      "image/png": "[encoded data removed]",
      "text/plain": [
       "<Figure size 1080x432 with 1 Axes>"
      ]
     },
     "metadata": {
      "needs_background": "light"
     },
     "output_type": "display_data"
    }
   ],
   "source": [
    "#graficamos\n",
    "plt.plot_date(x_values, y_values)\n",
    "plt.gcf().set_size_inches(15, 6)\n",
    "plt.tight_layout()\n",
    "plt.show()"
   ]
  }
 ],
 "metadata": {
  "kernelspec": {
   "display_name": "Python 3.8.8 ('base')",
   "language": "python",
   "name": "python3"
  },
  "language_info": {
   "codemirror_mode": {
    "name": "ipython",
    "version": 3
   },
   "file_extension": ".py",
   "mimetype": "text/x-python",
   "name": "python",
   "nbconvert_exporter": "python",
   "pygments_lexer": "ipython3",
   "version": "3.8.8"
  },
  "orig_nbformat": 4,
  "vscode": {
   "interpreter": {
    "hash": "26a5d3a76a012c5e9d7168d4999b8ce653eecbf017ec71ccc450a97866a571c6"
   }
  }
 },
 "nbformat": 4,
 "nbformat_minor": 2
}
